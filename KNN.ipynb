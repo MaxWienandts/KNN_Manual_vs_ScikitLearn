{
 "cells": [
  {
   "cell_type": "markdown",
   "id": "d5ba29f2-5219-4199-b6e3-623c168db54c",
   "metadata": {},
   "source": [
    "## Objective of This Notebook\n",
    "\n",
    "The objective of this notebook is to provide a deep understanding of the K-Nearest Neighbors (KNN) algorithm by comparing manual implementation techniques with optimized machine learning library functions.\n",
    "\n",
    "- First, I will demonstrate how to manually implement KNN for regression tasks, calculating distances, sorting neighbors, and making predictions without relying on external libraries.\n",
    "- Next, I will apply the same methodology using the scikit-learn library, allowing for a direct comparison between manual and automated approaches.\n",
    "\n",
    "Finally, I will conclude by discussing the importance of understanding foundational algorithms like KNN for building a solid machine learning background and highlight how mastering these fundamentals is critical for advancing toward more complex AI applications.\n",
    "\n",
    "📚 GitHub: https://github.com/MaxWienandts/KNN_Manual_vs_ScikitLearn/tree/main \\\n",
    "📖 Medium Article: https://medium.com/@maxwienandts/mastering-k-nearest-neighbors-knn-from-manual-implementation-to-real-world-applications-a61e8c181906"
   ]
  },
  {
   "cell_type": "markdown",
   "id": "fa8569af-47cf-4728-9cfa-1af436d628e1",
   "metadata": {},
   "source": [
    "## About KNN\n",
    "\n",
    "K-Nearest Neighbors (KNN) is a simple, intuitive, and powerful machine learning algorithm \\\n",
    "used for classification and regression. It works by finding the 'k' closest training examples \\\n",
    "to a new input and predicting the output based on these neighbors.\n",
    "\n",
    "KNN doesn't make assumptions about the underlying distribution of the data or the form of the relationship between input features and output. Instead, it relies directly on the data to make predictions.\n",
    "\n",
    "Key points:\n",
    "- KNN is a supervised model.\n",
    "- KNN is a non-parametric learning algorithm.\n",
    "- KNN is a lazy learner: it doesn't explicitly learn a model, it memorizes the training set.\n",
    "- It uses distance metrics (commonly Euclidean distance) to determine similarity.\n",
    "- It is sensitive to the choice of 'k' and to feature scaling."
   ]
  },
  {
   "cell_type": "code",
   "execution_count": 1,
   "id": "3ccb4efb-4cab-4b46-9347-6309a5ebde09",
   "metadata": {
    "tags": []
   },
   "outputs": [],
   "source": [
    "import math\n",
    "import random\n",
    "\n",
    "import numpy as np\n",
    "import pandas as pd\n",
    "\n",
    "from sklearn.model_selection import train_test_split\n",
    "from sklearn.preprocessing import StandardScaler\n",
    "from sklearn.neighbors import KNeighborsRegressor\n",
    "from sklearn.metrics import r2_score, mean_absolute_error, mean_squared_error\n",
    "\n",
    "import matplotlib.pyplot as plt"
   ]
  },
  {
   "cell_type": "code",
   "execution_count": 2,
   "id": "927f5cf2-3d62-44fe-927c-f6e139818245",
   "metadata": {
    "tags": []
   },
   "outputs": [
    {
     "data": {
      "text/html": [
       "<div>\n",
       "<style scoped>\n",
       "    .dataframe tbody tr th:only-of-type {\n",
       "        vertical-align: middle;\n",
       "    }\n",
       "\n",
       "    .dataframe tbody tr th {\n",
       "        vertical-align: top;\n",
       "    }\n",
       "\n",
       "    .dataframe thead th {\n",
       "        text-align: right;\n",
       "    }\n",
       "</style>\n",
       "<table border=\"1\" class=\"dataframe\">\n",
       "  <thead>\n",
       "    <tr style=\"text-align: right;\">\n",
       "      <th></th>\n",
       "      <th>Id</th>\n",
       "      <th>GrLivArea</th>\n",
       "      <th>GarageArea</th>\n",
       "      <th>SalePrice</th>\n",
       "    </tr>\n",
       "  </thead>\n",
       "  <tbody>\n",
       "    <tr>\n",
       "      <th>0</th>\n",
       "      <td>1</td>\n",
       "      <td>1710</td>\n",
       "      <td>548</td>\n",
       "      <td>208500</td>\n",
       "    </tr>\n",
       "    <tr>\n",
       "      <th>1</th>\n",
       "      <td>2</td>\n",
       "      <td>1262</td>\n",
       "      <td>460</td>\n",
       "      <td>181500</td>\n",
       "    </tr>\n",
       "    <tr>\n",
       "      <th>2</th>\n",
       "      <td>3</td>\n",
       "      <td>1786</td>\n",
       "      <td>608</td>\n",
       "      <td>223500</td>\n",
       "    </tr>\n",
       "    <tr>\n",
       "      <th>3</th>\n",
       "      <td>4</td>\n",
       "      <td>1717</td>\n",
       "      <td>642</td>\n",
       "      <td>140000</td>\n",
       "    </tr>\n",
       "    <tr>\n",
       "      <th>4</th>\n",
       "      <td>5</td>\n",
       "      <td>2198</td>\n",
       "      <td>836</td>\n",
       "      <td>250000</td>\n",
       "    </tr>\n",
       "    <tr>\n",
       "      <th>...</th>\n",
       "      <td>...</td>\n",
       "      <td>...</td>\n",
       "      <td>...</td>\n",
       "      <td>...</td>\n",
       "    </tr>\n",
       "    <tr>\n",
       "      <th>1455</th>\n",
       "      <td>1456</td>\n",
       "      <td>1647</td>\n",
       "      <td>460</td>\n",
       "      <td>175000</td>\n",
       "    </tr>\n",
       "    <tr>\n",
       "      <th>1456</th>\n",
       "      <td>1457</td>\n",
       "      <td>2073</td>\n",
       "      <td>500</td>\n",
       "      <td>210000</td>\n",
       "    </tr>\n",
       "    <tr>\n",
       "      <th>1457</th>\n",
       "      <td>1458</td>\n",
       "      <td>2340</td>\n",
       "      <td>252</td>\n",
       "      <td>266500</td>\n",
       "    </tr>\n",
       "    <tr>\n",
       "      <th>1458</th>\n",
       "      <td>1459</td>\n",
       "      <td>1078</td>\n",
       "      <td>240</td>\n",
       "      <td>142125</td>\n",
       "    </tr>\n",
       "    <tr>\n",
       "      <th>1459</th>\n",
       "      <td>1460</td>\n",
       "      <td>1256</td>\n",
       "      <td>276</td>\n",
       "      <td>147500</td>\n",
       "    </tr>\n",
       "  </tbody>\n",
       "</table>\n",
       "<p>1460 rows × 4 columns</p>\n",
       "</div>"
      ],
      "text/plain": [
       "        Id  GrLivArea  GarageArea  SalePrice\n",
       "0        1       1710         548     208500\n",
       "1        2       1262         460     181500\n",
       "2        3       1786         608     223500\n",
       "3        4       1717         642     140000\n",
       "4        5       2198         836     250000\n",
       "...    ...        ...         ...        ...\n",
       "1455  1456       1647         460     175000\n",
       "1456  1457       2073         500     210000\n",
       "1457  1458       2340         252     266500\n",
       "1458  1459       1078         240     142125\n",
       "1459  1460       1256         276     147500\n",
       "\n",
       "[1460 rows x 4 columns]"
      ]
     },
     "execution_count": 2,
     "metadata": {},
     "output_type": "execute_result"
    }
   ],
   "source": [
    "# Data from: https://www.kaggle.com/competitions/house-prices-advanced-regression-techniques/data\n",
    "# SalePrice - the property's sale price in dollars. This is the target variable that you're trying to predict.\n",
    "# GrLivArea: Above-ground living area (in square feet)\n",
    "# GarageArea: Garage size (in square feet)\n",
    "df = pd.read_csv(\"./data/train.csv\", usecols = ['Id', 'SalePrice', 'GrLivArea', 'GarageArea'])\n",
    "df"
   ]
  },
  {
   "cell_type": "markdown",
   "id": "417e23b4-0dee-4c49-a766-e3226701ffa2",
   "metadata": {},
   "source": [
    "## Initial Checks\n",
    "I am not focusing on exploratory data analysis (EDA) in this notebook. However, I will perform some basic data checks to identify any potential issues with the dataset.\n",
    "\n",
    "Specifically, I want to verify:\n",
    "- that all data types are correct (e.g., no unexpected characters in numeric variables),\n",
    "- that there are no missing values,\n",
    "- and that the variables exhibit some variance."
   ]
  },
  {
   "cell_type": "code",
   "execution_count": 3,
   "id": "956c0268-f029-4939-acda-03cf16685b44",
   "metadata": {
    "tags": []
   },
   "outputs": [
    {
     "name": "stdout",
     "output_type": "stream",
     "text": [
      "<class 'pandas.core.frame.DataFrame'>\n",
      "RangeIndex: 1460 entries, 0 to 1459\n",
      "Data columns (total 4 columns):\n",
      " #   Column      Non-Null Count  Dtype\n",
      "---  ------      --------------  -----\n",
      " 0   Id          1460 non-null   int64\n",
      " 1   GrLivArea   1460 non-null   int64\n",
      " 2   GarageArea  1460 non-null   int64\n",
      " 3   SalePrice   1460 non-null   int64\n",
      "dtypes: int64(4)\n",
      "memory usage: 45.8 KB\n"
     ]
    }
   ],
   "source": [
    "# Verify data type\n",
    "df.info()"
   ]
  },
  {
   "cell_type": "code",
   "execution_count": 4,
   "id": "e6a32ccb-02f9-4c5c-a862-088ac601b087",
   "metadata": {
    "tags": []
   },
   "outputs": [
    {
     "data": {
      "text/html": [
       "<div>\n",
       "<style scoped>\n",
       "    .dataframe tbody tr th:only-of-type {\n",
       "        vertical-align: middle;\n",
       "    }\n",
       "\n",
       "    .dataframe tbody tr th {\n",
       "        vertical-align: top;\n",
       "    }\n",
       "\n",
       "    .dataframe thead th {\n",
       "        text-align: right;\n",
       "    }\n",
       "</style>\n",
       "<table border=\"1\" class=\"dataframe\">\n",
       "  <thead>\n",
       "    <tr style=\"text-align: right;\">\n",
       "      <th></th>\n",
       "      <th>missing_values</th>\n",
       "      <th>percent</th>\n",
       "    </tr>\n",
       "  </thead>\n",
       "  <tbody>\n",
       "    <tr>\n",
       "      <th>Id</th>\n",
       "      <td>0</td>\n",
       "      <td>0.0</td>\n",
       "    </tr>\n",
       "    <tr>\n",
       "      <th>GrLivArea</th>\n",
       "      <td>0</td>\n",
       "      <td>0.0</td>\n",
       "    </tr>\n",
       "    <tr>\n",
       "      <th>GarageArea</th>\n",
       "      <td>0</td>\n",
       "      <td>0.0</td>\n",
       "    </tr>\n",
       "    <tr>\n",
       "      <th>SalePrice</th>\n",
       "      <td>0</td>\n",
       "      <td>0.0</td>\n",
       "    </tr>\n",
       "  </tbody>\n",
       "</table>\n",
       "</div>"
      ],
      "text/plain": [
       "            missing_values  percent\n",
       "Id                       0      0.0\n",
       "GrLivArea                0      0.0\n",
       "GarageArea               0      0.0\n",
       "SalePrice                0      0.0"
      ]
     },
     "execution_count": 4,
     "metadata": {},
     "output_type": "execute_result"
    }
   ],
   "source": [
    "# Missing values\n",
    "df_missing = pd.DataFrame(df.isna().sum(), columns = ['missing_values'])\n",
    "df_missing['percent'] = df_missing['missing_values'] / len(df)\n",
    "df_missing.head(50)"
   ]
  },
  {
   "cell_type": "code",
   "execution_count": 5,
   "id": "f333e046-d3e1-480a-9281-ee18c11cce7d",
   "metadata": {
    "tags": []
   },
   "outputs": [
    {
     "data": {
      "text/html": [
       "<div>\n",
       "<style scoped>\n",
       "    .dataframe tbody tr th:only-of-type {\n",
       "        vertical-align: middle;\n",
       "    }\n",
       "\n",
       "    .dataframe tbody tr th {\n",
       "        vertical-align: top;\n",
       "    }\n",
       "\n",
       "    .dataframe thead th {\n",
       "        text-align: right;\n",
       "    }\n",
       "</style>\n",
       "<table border=\"1\" class=\"dataframe\">\n",
       "  <thead>\n",
       "    <tr style=\"text-align: right;\">\n",
       "      <th></th>\n",
       "      <th>Id</th>\n",
       "      <th>GrLivArea</th>\n",
       "      <th>GarageArea</th>\n",
       "      <th>SalePrice</th>\n",
       "    </tr>\n",
       "  </thead>\n",
       "  <tbody>\n",
       "    <tr>\n",
       "      <th>count</th>\n",
       "      <td>1460.000000</td>\n",
       "      <td>1460.000000</td>\n",
       "      <td>1460.000000</td>\n",
       "      <td>1460.000000</td>\n",
       "    </tr>\n",
       "    <tr>\n",
       "      <th>mean</th>\n",
       "      <td>730.500000</td>\n",
       "      <td>1515.463699</td>\n",
       "      <td>472.980137</td>\n",
       "      <td>180921.195890</td>\n",
       "    </tr>\n",
       "    <tr>\n",
       "      <th>std</th>\n",
       "      <td>421.610009</td>\n",
       "      <td>525.480383</td>\n",
       "      <td>213.804841</td>\n",
       "      <td>79442.502883</td>\n",
       "    </tr>\n",
       "    <tr>\n",
       "      <th>min</th>\n",
       "      <td>1.000000</td>\n",
       "      <td>334.000000</td>\n",
       "      <td>0.000000</td>\n",
       "      <td>34900.000000</td>\n",
       "    </tr>\n",
       "    <tr>\n",
       "      <th>25%</th>\n",
       "      <td>365.750000</td>\n",
       "      <td>1129.500000</td>\n",
       "      <td>334.500000</td>\n",
       "      <td>129975.000000</td>\n",
       "    </tr>\n",
       "    <tr>\n",
       "      <th>50%</th>\n",
       "      <td>730.500000</td>\n",
       "      <td>1464.000000</td>\n",
       "      <td>480.000000</td>\n",
       "      <td>163000.000000</td>\n",
       "    </tr>\n",
       "    <tr>\n",
       "      <th>75%</th>\n",
       "      <td>1095.250000</td>\n",
       "      <td>1776.750000</td>\n",
       "      <td>576.000000</td>\n",
       "      <td>214000.000000</td>\n",
       "    </tr>\n",
       "    <tr>\n",
       "      <th>max</th>\n",
       "      <td>1460.000000</td>\n",
       "      <td>5642.000000</td>\n",
       "      <td>1418.000000</td>\n",
       "      <td>755000.000000</td>\n",
       "    </tr>\n",
       "  </tbody>\n",
       "</table>\n",
       "</div>"
      ],
      "text/plain": [
       "                Id    GrLivArea   GarageArea      SalePrice\n",
       "count  1460.000000  1460.000000  1460.000000    1460.000000\n",
       "mean    730.500000  1515.463699   472.980137  180921.195890\n",
       "std     421.610009   525.480383   213.804841   79442.502883\n",
       "min       1.000000   334.000000     0.000000   34900.000000\n",
       "25%     365.750000  1129.500000   334.500000  129975.000000\n",
       "50%     730.500000  1464.000000   480.000000  163000.000000\n",
       "75%    1095.250000  1776.750000   576.000000  214000.000000\n",
       "max    1460.000000  5642.000000  1418.000000  755000.000000"
      ]
     },
     "execution_count": 5,
     "metadata": {},
     "output_type": "execute_result"
    }
   ],
   "source": [
    "# Describe\n",
    "df.describe()"
   ]
  },
  {
   "cell_type": "code",
   "execution_count": 6,
   "id": "af63a46b-a453-427e-8a03-1cf4e1e69913",
   "metadata": {
    "tags": []
   },
   "outputs": [
    {
     "data": {
      "image/png": "[encoded data removed]",
      "text/plain": [
       "<Figure size 640x480 with 1 Axes>"
      ]
     },
     "metadata": {},
     "output_type": "display_data"
    }
   ],
   "source": [
    "# Plot\n",
    "# GrLivArea\n",
    "X = df['GrLivArea']\n",
    "y = df['SalePrice']\n",
    "plt.scatter(X, y, label=\"Data\")\n",
    "plt.xlabel(f\"GrLivArea\")\n",
    "plt.ylabel(f\"SalePrice\")\n",
    "plt.title(\"Slas price per living area.\")\n",
    "plt.show()"
   ]
  },
  {
   "cell_type": "code",
   "execution_count": 7,
   "id": "0d53ca4d-bb90-4813-a71a-c0bad5acd2a7",
   "metadata": {
    "tags": []
   },
   "outputs": [
    {
     "data": {
      "image/png": "[encoded data removed]",
      "text/plain": [
       "<Figure size 640x480 with 1 Axes>"
      ]
     },
     "metadata": {},
     "output_type": "display_data"
    }
   ],
   "source": [
    "# Plot\n",
    "# GarageArea\n",
    "X = df['GarageArea']\n",
    "y = df['SalePrice']\n",
    "plt.scatter(X, y, label=\"Data\")\n",
    "plt.xlabel(f\"GarageArea\")\n",
    "plt.ylabel(f\"SalePrice\")\n",
    "plt.title(\"Slas price per living area.\")\n",
    "plt.show()"
   ]
  },
  {
   "cell_type": "markdown",
   "id": "ab10bfb7-dcce-4a13-a634-ed8016b3f292",
   "metadata": {},
   "source": [
    "## Manual implementation of KNN\n",
    "\n",
    "Now, let's walk step-by-step through how K-Nearest Neighbors works manually:\n",
    "\n",
    "1. **Distance Calculation**:\n",
    "   For each point in the training data, we compute the distance between the training point \\\n",
    "   and the new point we want to predict. Here, we use the Euclidean distance formula:\n",
    "\n",
    "$$ \n",
    "\\text{distance} = \\sqrt{(x_1 - x_2)^2 + (y_1 - y_2)^2} \n",
    "$$\n",
    "\n",
    "   where (x1, y1) is a point in the training set, and (x2, y2) is the new point.\n",
    "\n",
    "2. **Sorting the Distances**:\n",
    "   After computing the distance from each training point to the new point, \\\n",
    "   we sort these distances from smallest to largest.\n",
    "\n",
    "3. **Selecting the K Nearest Neighbors**:\n",
    "   We pick the 'k' points with the smallest distances. In our case, k=1, \\\n",
    "   meaning we just take the single closest neighbor.\n",
    "\n",
    "4. **Prediction**:\n",
    "   - For classification: we would pick the most frequent class among the neighbors.\n",
    "   - For regression: we take the average (mean) of the neighbors' target values.\n",
    "\n",
    "Since we are predicting SalePrice (a continuous value), we will average the neighbor values. \\\n",
    "If k=1, we simply return the SalePrice of the closest neighbor.\n",
    "\n",
    "**Important Considerations about Choosing 'k':**\n",
    "\n",
    "Choosing the right 'k' is crucial for KNN performance:\n",
    "- If 'k' is too small (e.g., k=1), the model can be very sensitive to noise (overfitting).\n",
    "- If 'k' is too large, the model can become too smooth and underfit the data.\n",
    "\n",
    "A common practice is to use cross-validation to find the optimal value of 'k' that minimizes prediction error on unseen data.\n",
    "\n",
    "**Special Case - k equals the number of observations:**\n",
    "- If we set 'k' equal to the number of training points, the model always predicts the same value: the mean of the training targets.\n",
    "- In this case, KNN essentially reduces to a simple mean model, ignoring all input features.\n",
    "\n",
    "Thus, careful tuning of 'k' is key to achieving good results with KNN.\n",
    "\n",
    "**Feature Scaling in KNN:**\n",
    "\n",
    "It is extremely important to standardize or normalize features when using KNN, especially when features are measured on different scales.\n",
    "\n",
    "KNN relies entirely on distance calculations. If one feature has a much larger scale than another, it will dominate the distance calculation and effectively outweigh other features.\n",
    "\n",
    "For example, if one feature ranges from 0 to 10,000 (e.g., square footage) and another feature ranges from 0 to 10 (e.g., number of bathrooms), the model will almost completely ignore the smaller feature unless the data is properly scaled.\n",
    "\n",
    "Standardization (mean=0, standard deviation=1) or Min-Max normalization (scaling to a fixed range like [0,1]) ensures that all features contribute equally to the distance calculation, leading to more balanced and accurate predictions.\n",
    "\n",
    "\n",
    "**Handling categorical variables**\n",
    "\n",
    "Handling categorical variables in KNN requires special attention because KNN relies on numerical distance calculations. \\\n",
    "If categorical variables are present, they need to be properly encoded to avoid introducing bias.\n",
    "\n",
    "**Approaches:**\n",
    "- **One-Hot Encoding**: Convert each category into a separate binary feature (0 or 1).\n",
    "    - Works well when the number of categories is small.\n",
    "- **Ordinal Encoding**: Assign integers to categories.\n",
    "    - Only suitable if categories have a meaningful, natural order (e.g., education level).\n",
    "- **Target Encoding (Mean Encoding)**: Replace each category with the mean of the target variable (e.g., average SalePrice for each neighborhood).\n",
    "    - Very useful for KNN because it keeps the feature numerical and low-dimensional.\n",
    "    - However, must be used carefully to avoid data leakage (encoding should be based only on training data, not the full dataset).\n",
    "\n",
    "**Dangers of High-Cardinality Categorical Variables:**\n",
    "- If a categorical variable has too many unique values (high cardinality), one-hot encoding will explode the number of dimensions.\n",
    "- This can drastically increase the sparsity of the dataset, making distance calculations less meaningful and leading to poor model performance (curse of dimensionality).\n",
    "- Even ordinal encoding can be misleading if the numerical codes imply an artificial ordering where none exists.\n",
    "\n",
    "**Best Practices:**\n",
    "- Group rare categories together into an \"Other\" category.\n",
    "- Consider using Target Encoding to handle high-cardinality variables in a compact way.\n",
    "- Apply cross-validation or smoothing techniques in Target Encoding to prevent overfitting.\n",
    "- Carefully assess whether a categorical variable is necessary for the KNN model — in some cases, other algorithms (like decision trees) are better suited for high-cardinality categorical features.\n",
    "\n",
    "In this notebook, we only used continuous numerical variables, but in real-world cases, preprocessing categorical variables properly is crucial for KNN success!\n",
    "\n"
   ]
  },
  {
   "cell_type": "code",
   "execution_count": 8,
   "id": "894cce95-62f5-462b-8f4f-36272fce37b9",
   "metadata": {
    "tags": []
   },
   "outputs": [],
   "source": [
    "def euclidean_distance(p1, p2):\n",
    "    \"\"\"Compute the Euclidean distance between two points p1 and p2.\"\"\"\n",
    "    return math.sqrt(sum((a - b) ** 2 for a, b in zip(p1, p2)))\n",
    "\n",
    "def knn_predict(X, y, new_point, k=1):\n",
    "    \"\"\"\n",
    "    Perform KNN prediction manually.\n",
    "\n",
    "    Args:\n",
    "        X: list of feature vectors from training data\n",
    "        y: list of target values (SalePrices)\n",
    "        new_point: the new data point for which we want a prediction\n",
    "        k: number of neighbors to consider\n",
    "\n",
    "    Returns:\n",
    "        Predicted target value (SalePrice)\n",
    "    \"\"\"\n",
    "    distances = []\n",
    "\n",
    "    # Step 1: Calculate the distance from each training point to the new point\n",
    "    for i in range(len(X)):\n",
    "        distance = euclidean_distance(X[i], new_point)\n",
    "        distances.append((distance, y[i]))\n",
    "\n",
    "    # Step 2: Sort all distances in ascending order\n",
    "    distances.sort(key=lambda x: x[0])\n",
    "\n",
    "    # Step 3: Select the k nearest neighbors\n",
    "    neighbors = distances[:k]\n",
    "\n",
    "    # Step 4: For regression, return the average of the neighbors' SalePrices\n",
    "    prediction = sum(price for _, price in neighbors) / k\n",
    "\n",
    "    return prediction"
   ]
  },
  {
   "cell_type": "code",
   "execution_count": 9,
   "id": "ef432bac-3c24-40e0-8649-24f59309567e",
   "metadata": {
    "tags": []
   },
   "outputs": [
    {
     "name": "stdout",
     "output_type": "stream",
     "text": [
      "new_point: [1400  440]\n"
     ]
    }
   ],
   "source": [
    "# Split into train and test sets\n",
    "df_train, df_test = train_test_split(df, test_size=0.2, random_state=42)\n",
    "\n",
    "# Features and target\n",
    "features = ['GrLivArea', 'GarageArea']\n",
    "target = 'SalePrice'\n",
    "\n",
    "# Standardize features\n",
    "scaler = StandardScaler()\n",
    "scaler.fit(df_train[features])\n",
    "\n",
    "train_scaled = scaler.transform(df_train[features])\n",
    "test_scaled = scaler.transform(df_test[features])\n",
    "\n",
    "# Selecting a sample from the test set for prediction\n",
    "test_sample = df_test.sample(1, random_state=42)\n",
    "new_point = test_sample[features].values[0]\n",
    "print(f'new_point: {new_point}')\n",
    "\n",
    "X_train = train_scaled.tolist()\n",
    "y_train = df_train[target].values.tolist()\n",
    "X_test = test_scaled.tolist()\n",
    "y_test = df_test[target].values.tolist()"
   ]
  },
  {
   "cell_type": "code",
   "execution_count": 28,
   "id": "96d77712-d682-4392-a855-1a88df38ca99",
   "metadata": {
    "tags": []
   },
   "outputs": [
    {
     "name": "stdout",
     "output_type": "stream",
     "text": [
      "Predicted SalePrice (manual KNN): 437950.0\n"
     ]
    }
   ],
   "source": [
    "# Train and predict one point\n",
    "k = 5\n",
    "\n",
    "predicted_price_manual = knn_predict(X_train, y_train, new_point, k)\n",
    "print(f\"Predicted SalePrice (manual KNN): {predicted_price_manual}\")"
   ]
  },
  {
   "cell_type": "code",
   "execution_count": 29,
   "id": "1f7f8eb2-33a8-4eb0-99ec-1e2d0e5c9cb7",
   "metadata": {
    "tags": []
   },
   "outputs": [
    {
     "name": "stdout",
     "output_type": "stream",
     "text": [
      "Manual KNN Performance:\n",
      "R2 Score: 0.7074\n",
      "Mean Absolute Error (MAE): 31057.16\n",
      "Root Mean Squared Error (RMSE): 47373.07\n"
     ]
    }
   ],
   "source": [
    "# Predict SalePrice for all observations in the test set\n",
    "manual_predictions = [knn_predict(X_train, y_train, point, k=k) for point in X_test]\n",
    "\n",
    "# Evaluating performance\n",
    "print(\"Manual KNN Performance:\")\n",
    "print(f\"R2 Score: {r2_score(y_test, manual_predictions):.4f}\")\n",
    "print(f\"Mean Absolute Error (MAE): {mean_absolute_error(y_test, manual_predictions):.2f}\")\n",
    "print(f\"Root Mean Squared Error (RMSE): {math.sqrt(mean_squared_error(y_test, manual_predictions)):.2f}\")"
   ]
  },
  {
   "cell_type": "markdown",
   "id": "2fe2c7d3-a052-484f-bd87-602d05af6774",
   "metadata": {},
   "source": [
    "## Using Scikit-Learn"
   ]
  },
  {
   "cell_type": "code",
   "execution_count": 30,
   "id": "3417431e-73f9-4a61-a095-b15970ecadbd",
   "metadata": {
    "tags": []
   },
   "outputs": [
    {
     "name": "stdout",
     "output_type": "stream",
     "text": [
      "Predicted SalePrice (scikit-learn KNN): 437950.0\n"
     ]
    }
   ],
   "source": [
    "# Train and predict one point\n",
    "model = KNeighborsRegressor(n_neighbors = k)\n",
    "model.fit(X_train, y_train)\n",
    "\n",
    "prediction = model.predict([new_point])[0]\n",
    "print(f\"Predicted SalePrice (scikit-learn KNN): {prediction}\")"
   ]
  },
  {
   "cell_type": "code",
   "execution_count": 31,
   "id": "0523357c-e843-4ffc-a10c-630cf44905d6",
   "metadata": {
    "tags": []
   },
   "outputs": [
    {
     "name": "stdout",
     "output_type": "stream",
     "text": [
      "\n",
      "Scikit-Learn KNN Performance:\n",
      "R2 Score: 0.7071\n",
      "Mean Absolute Error (MAE): 31093.05\n",
      "Root Mean Squared Error (RMSE): 47402.46\n"
     ]
    }
   ],
   "source": [
    "# Predict SalePrice for all observations in the test set\n",
    "sklearn_predictions = model.predict(X_test)\n",
    "\n",
    "# Evaluating performance\n",
    "print(\"\\nScikit-Learn KNN Performance:\")\n",
    "print(f\"R2 Score: {r2_score(y_test, sklearn_predictions):.4f}\")\n",
    "print(f\"Mean Absolute Error (MAE): {mean_absolute_error(y_test, sklearn_predictions):.2f}\")\n",
    "print(f\"Root Mean Squared Error (RMSE): {math.sqrt(mean_squared_error(y_test, sklearn_predictions)):.2f}\")"
   ]
  },
  {
   "cell_type": "markdown",
   "id": "c41ee58f-3c6a-410b-9799-c5d9c89d93b7",
   "metadata": {},
   "source": [
    "## Conclusion\n",
    "\n",
    "Through this notebook, we demonstrated how K-Nearest Neighbors (KNN) works both manually and using scikit-learn. \\\n",
    "Both approaches provided the same predictions, validating our manual understanding.\n",
    "\n",
    "**Key takeaways:**\n",
    "- Manual implementation helps in understanding the fundamental logic behind KNN: distance computation, sorting, selecting neighbors, and averaging predictions.\n",
    "- Libraries like scikit-learn automate these steps and optimize them for real-world applications.\n",
    "- Feature scaling is critical for KNN to function properly, ensuring fair contributions from all features.\n",
    "- Careful selection of 'k' can greatly affect model performance.\n",
    "\n",
    "**When KNN is a Good Choice:**\n",
    "- When the data distribution is complex and non-linear.\n",
    "- When local relationships matter more than global trends.\n",
    "- When the dataset is not excessively large (since KNN can be computationally expensive).\n",
    "\n",
    "KNN can even **outperform linear regression** when the underlying relationship between features and target variable is non-linear and local patterns are strong. \\\n",
    "While linear regression assumes a global linear trend, KNN adapts naturally to local variations in the data without requiring a pre-defined model form.\n",
    "\n",
    "Thus, KNN remains a strong and versatile algorithm in the machine learning toolbox, especially when combined with careful preprocessing (like feature scaling) and smart choices of hyperparameters (like the number of neighbors and distance metric).\n",
    "\n"
   ]
  },
  {
   "cell_type": "code",
   "execution_count": null,
   "id": "c0e6e3e0-9273-4261-9539-390787ed7d06",
   "metadata": {},
   "outputs": [],
   "source": []
  }
 ],
 "metadata": {
  "kernelspec": {
   "display_name": "Python 3 (ipykernel)",
   "language": "python",
   "name": "python3"
  },
  "language_info": {
   "codemirror_mode": {
    "name": "ipython",
    "version": 3
   },
   "file_extension": ".py",
   "mimetype": "text/x-python",
   "name": "python",
   "nbconvert_exporter": "python",
   "pygments_lexer": "ipython3",
   "version": "3.10.0"
  }
 },
 "nbformat": 4,
 "nbformat_minor": 5
}
